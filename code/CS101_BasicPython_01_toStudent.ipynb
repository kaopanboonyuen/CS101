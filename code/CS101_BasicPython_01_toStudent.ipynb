{
 "cells": [
  {
   "cell_type": "markdown",
   "metadata": {
    "id": "dzNng6vCL9eP"
   },
   "source": [
    "# CS101 Python Tutorial With Google Colab\n",
    "\n",
    "![](https://raw.githubusercontent.com/kaopanboonyuen/CS101/main/img/python_coding.gif)"
   ]
  },
  {
   "cell_type": "markdown",
   "metadata": {
    "id": "0vJLt3JRL9eR"
   },
   "source": [
    "Reference:\n",
    "\n",
    "- https://stanfordpython.com\n",
    "- https://ocw.mit.edu/courses/6-0001-introduction-to-computer-science-and-programming-in-python-fall-2016/\n",
    "- https://stanford.edu/~schmit/cme193/ \n",
    "- https://github.com/suneelpatel/Python-for-Beginners/tree/master \n",
    "- https://data-flair.training/blogs/python-career-opportunities/ \n",
    "- https://geekflare.com/google-colab/ \n",
    "- https://cs231n.github.io/python-numpy-tutorial/ \n",
    "- https://www.cp.eng.chula.ac.th/books/python101/"
   ]
  },
  {
   "cell_type": "code",
   "execution_count": 1,
   "metadata": {
    "colab": {
     "base_uri": "https://localhost:8080/"
    },
    "id": "1L4Am0QATgOc",
    "outputId": "93f3243d-bb79-4779-e665-e0208c3c24a2"
   },
   "outputs": [
    {
     "name": "stdout",
     "output_type": "stream",
     "text": [
      "Python 3.7.13\r\n"
     ]
    }
   ],
   "source": [
    "!python --version"
   ]
  },
  {
   "cell_type": "markdown",
   "metadata": {
    "id": "JAFKYgrpL9eY"
   },
   "source": [
    "## Basics of Python"
   ]
  },
  {
   "cell_type": "markdown",
   "metadata": {
    "id": "NwS_hu4xL9eo"
   },
   "source": [
    "### Basic data types"
   ]
  },
  {
   "cell_type": "markdown",
   "metadata": {
    "id": "DL5sMSZ9L9eq"
   },
   "source": [
    "#### Numbers"
   ]
  },
  {
   "cell_type": "markdown",
   "metadata": {
    "id": "MGS0XEWoL9er"
   },
   "source": [
    "Integers and floats work as you would expect from other languages:"
   ]
  },
  {
   "cell_type": "code",
   "execution_count": 2,
   "metadata": {
    "colab": {
     "base_uri": "https://localhost:8080/"
    },
    "id": "KheDr_zDL9es",
    "outputId": "b2520a56-1189-429f-e7e4-57e43b38f205"
   },
   "outputs": [
    {
     "name": "stdout",
     "output_type": "stream",
     "text": [
      "3 <class 'int'>\n"
     ]
    }
   ],
   "source": [
    "x = 3\n",
    "print(x, type(x))"
   ]
  },
  {
   "cell_type": "markdown",
   "metadata": {},
   "source": [
    "In case it's helpful, here is the table of available arithmetic operations:\n",
    "\n",
    "\n",
    "\n",
    "| Operator     | Name           | Description                                            |\n",
    "|--------------|----------------|--------------------------------------------------------|\n",
    "| ``a + b``    | Addition       | Sum of ``a`` and ``b``                                 |\n",
    "| ``a - b``    | Subtraction    | Difference of ``a`` and ``b``                          |\n",
    "| ``a * b``    | Multiplication | Product of ``a`` and ``b``                             |\n",
    "| ``a / b``    | True division  | Quotient of ``a`` and ``b``                            |\n",
    "| ``a // b``   | Floor division | Quotient of ``a`` and ``b``, removing fractional parts |\n",
    "| ``a % b``    | Modulus        | Integer remainder after division of ``a`` by ``b``     |\n",
    "| ``a ** b``   | Exponentiation | ``a`` raised to the power of ``b``                     |\n",
    "| ``-a``       | Negation       | The negative of ``a``                                  |\n",
    "\n",
    "<span style=\"display:none\"></span>"
   ]
  },
  {
   "cell_type": "code",
   "execution_count": 3,
   "metadata": {
    "colab": {
     "base_uri": "https://localhost:8080/"
    },
    "id": "sk_8DFcuL9ey",
    "outputId": "d4e77819-6507-4b6c-a949-0b1e8d33c9b9"
   },
   "outputs": [
    {
     "name": "stdout",
     "output_type": "stream",
     "text": [
      "4\n",
      "2\n",
      "6\n",
      "9\n",
      "1\n"
     ]
    }
   ],
   "source": [
    "print(x + 1)   # Addition\n",
    "print(x - 1)   # Subtraction\n",
    "print(x * 2)   # Multiplication\n",
    "print(x ** 2)  # Exponentiation\n",
    "print(x % 2)  # Modulo operator"
   ]
  },
  {
   "cell_type": "code",
   "execution_count": 4,
   "metadata": {
    "colab": {
     "base_uri": "https://localhost:8080/"
    },
    "id": "U4Jl8K0tL9e4",
    "outputId": "63e9ce77-db7c-4707-db05-580dcba68f54"
   },
   "outputs": [
    {
     "name": "stdout",
     "output_type": "stream",
     "text": [
      "4\n",
      "8\n"
     ]
    }
   ],
   "source": [
    "x += 1\n",
    "print(x)\n",
    "x *= 2\n",
    "print(x)"
   ]
  },
  {
   "cell_type": "code",
   "execution_count": 5,
   "metadata": {
    "colab": {
     "base_uri": "https://localhost:8080/"
    },
    "id": "w-nZ0Sg_L9e9",
    "outputId": "96037371-bb77-421b-8845-84364380ea82"
   },
   "outputs": [
    {
     "name": "stdout",
     "output_type": "stream",
     "text": [
      "<class 'float'>\n",
      "2.5 3.5 5.0 6.25\n"
     ]
    }
   ],
   "source": [
    "y = 2.5\n",
    "print(type(y))\n",
    "print(y, y + 1, y * 2, y ** 2)"
   ]
  },
  {
   "cell_type": "code",
   "execution_count": 6,
   "metadata": {},
   "outputs": [
    {
     "name": "stdout",
     "output_type": "stream",
     "text": [
      "Integer: 42\n",
      "Float: 3.14\n",
      "Complex: (2+3j)\n"
     ]
    }
   ],
   "source": [
    "# Integer\n",
    "my_integer = 42\n",
    "print(\"Integer:\", my_integer)\n",
    "\n",
    "# Float\n",
    "my_float = 3.14\n",
    "print(\"Float:\", my_float)\n",
    "\n",
    "# Complex\n",
    "my_complex = 2 + 3j\n",
    "print(\"Complex:\", my_complex)"
   ]
  },
  {
   "cell_type": "code",
   "execution_count": 7,
   "metadata": {},
   "outputs": [
    {
     "name": "stdout",
     "output_type": "stream",
     "text": [
      "Result: 32\n"
     ]
    }
   ],
   "source": [
    "# Integer example\n",
    "\n",
    "num1 = 42\n",
    "num2 = -10\n",
    "result = num1 + num2\n",
    "print(\"Result:\", result)"
   ]
  },
  {
   "cell_type": "code",
   "execution_count": 8,
   "metadata": {},
   "outputs": [
    {
     "name": "stdout",
     "output_type": "stream",
     "text": [
      "Final Price: 16.9915\n"
     ]
    }
   ],
   "source": [
    "# Float example\n",
    "\n",
    "price = 19.99\n",
    "discount = 0.15\n",
    "\n",
    "final_price =  # Insert your code here\n",
    "\n",
    "print(\"Final Price:\", final_price)"
   ]
  },
  {
   "cell_type": "markdown",
   "metadata": {},
   "source": [
    "![](https://ichef.bbci.co.uk/images/ic/448xn/p0dl61jy.png)"
   ]
  },
  {
   "cell_type": "code",
   "execution_count": 9,
   "metadata": {},
   "outputs": [
    {
     "name": "stdout",
     "output_type": "stream",
     "text": [
      "Area of the Circle: 78.53981633974483\n"
     ]
    }
   ],
   "source": [
    "# Find Area of a Circle:\n",
    "\n",
    "import math\n",
    "\n",
    "radius = 5\n",
    "\n",
    "area =  # Insert your code here # math.pi is π\n",
    "\n",
    "print(\"Area of the Circle:\", area)"
   ]
  },
  {
   "cell_type": "markdown",
   "metadata": {},
   "source": [
    "![](https://www.wikihow.com/images/thumb/e/eb/Convert-Celsius-%28%C2%B0C%29-to-Fahrenheit-%28%C2%B0F%29-Step-1-Version-2.jpg/v4-460px-Convert-Celsius-%28%C2%B0C%29-to-Fahrenheit-%28%C2%B0F%29-Step-1-Version-2.jpg.webp)"
   ]
  },
  {
   "cell_type": "code",
   "execution_count": 10,
   "metadata": {},
   "outputs": [
    {
     "name": "stdout",
     "output_type": "stream",
     "text": [
      "Fahrenheit: 77.0\n"
     ]
    }
   ],
   "source": [
    "# Cel sius to Fahrenheit Converter:\n",
    "\n",
    "celsius = 25\n",
    "\n",
    "fahrenheit =  # Insert your code here\n",
    "\n",
    "print(\"Fahrenheit:\", fahrenheit)"
   ]
  },
  {
   "cell_type": "markdown",
   "metadata": {},
   "source": [
    "![](https://calculator-online.net/images/csas-%E2%80%93-2%20(1).webp)"
   ]
  },
  {
   "cell_type": "code",
   "execution_count": 11,
   "metadata": {},
   "outputs": [
    {
     "name": "stdout",
     "output_type": "stream",
     "text": [
      "BMI: 22.857142857142858\n"
     ]
    }
   ],
   "source": [
    "# BMI (Body Mass Index) Calculator:\n",
    "\n",
    "weight = 70\n",
    "height = 1.75\n",
    "\n",
    "bmi =  # Insert your code here\n",
    "\n",
    "print(\"BMI:\", bmi)"
   ]
  },
  {
   "cell_type": "code",
   "execution_count": 12,
   "metadata": {},
   "outputs": [
    {
     "name": "stdout",
     "output_type": "stream",
     "text": [
      "Enter temperature in Celsius: 12\n",
      "Temperature in Fahrenheit: 53.6\n"
     ]
    }
   ],
   "source": [
    "# Celsius to Fahrenheit Converter (with KEYBOARD INPUT):\n",
    "\n",
    "celsius = float(input(\"Enter temperature in Celsius: \"))\n",
    "\n",
    "fahrenheit = # Insert your code here\n",
    "\n",
    "print(\"Temperature in Fahrenheit:\", fahrenheit)"
   ]
  },
  {
   "cell_type": "code",
   "execution_count": 93,
   "metadata": {},
   "outputs": [
    {
     "name": "stdout",
     "output_type": "stream",
     "text": [
      "Enter your weight in kilograms: 90\n",
      "Enter your height in meters: 181\n",
      "BMI: 0.0027471688898385274\n"
     ]
    }
   ],
   "source": [
    "# BMI (Body Mass Index) Calculator (with KEYBOARD INPUT):\n",
    "\n",
    "weight = float(input(\"Enter your weight in kilograms: \"))\n",
    "height = float(input(\"Enter your height in meters: \"))\n",
    "\n",
    "bmi =  # Insert your code here\n",
    "\n",
    "print(\"BMI:\", bmi)"
   ]
  },
  {
   "cell_type": "markdown",
   "metadata": {
    "id": "r2A9ApyaL9fB"
   },
   "source": [
    "Note that unlike many languages, Python does not have unary increment (x++) or decrement (x--) operators.\n",
    "\n",
    "Python also has built-in types for long integers and complex numbers; you can find all of the details in the [documentation](https://docs.python.org/3.7/library/stdtypes.html#numeric-types-int-float-long-complex)."
   ]
  },
  {
   "cell_type": "markdown",
   "metadata": {},
   "source": [
    "#### Exercise 1: Triangle\n",
    "\n",
    "![](https://github.com/kaopanboonyuen/CS101/raw/main/img/exercise/EX1-1.png)\n",
    "![](https://github.com/kaopanboonyuen/CS101/raw/main/img/exercise/EX1-2.png)"
   ]
  },
  {
   "cell_type": "code",
   "execution_count": null,
   "metadata": {},
   "outputs": [],
   "source": [
    "# EXERCISE1: Insert your code here"
   ]
  }
 ],
 "metadata": {
  "colab": {
   "provenance": [],
   "toc_visible": true
  },
  "kernelspec": {
   "display_name": "Python 3 (ipykernel)",
   "language": "python",
   "name": "python3"
  },
  "language_info": {
   "codemirror_mode": {
    "name": "ipython",
    "version": 3
   },
   "file_extension": ".py",
   "mimetype": "text/x-python",
   "name": "python",
   "nbconvert_exporter": "python",
   "pygments_lexer": "ipython3",
   "version": "3.7.13"
  }
 },
 "nbformat": 4,
 "nbformat_minor": 1
}
